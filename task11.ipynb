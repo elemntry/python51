{
 "cells": [
  {
   "cell_type": "markdown",
   "id": "2267bfa5",
   "metadata": {},
   "source": [
    "### Тема 11. Асинхронность в Python"
   ]
  },
  {
   "cell_type": "markdown",
   "id": "3e1eb448",
   "metadata": {},
   "source": [
    "Задание\n",
    "Напишите загрузчик содержимого веб-страниц с использованием асинхронного подхода.\n",
    "\n",
    "Список адресов веб-страниц можно задать в коде. \n",
    "Например:\n",
    "\n",
    "sites = [\n",
    "        \"https://www.jython.org\",\n",
    "        \"https://python.org/\",\n",
    "    ] * 80\n",
    "\n",
    "1.  Используйте библиотеки aysncio и aiohttp\n",
    "\n",
    "2. Корутины должны запускаться одновременно с помощью функции gather. Обратите внимание, что gather принимает на вход созданные корутины или объекты класса Task. \n",
    "\n",
    "3. Результатом посещения страницы должна быть печать количества символов на странице  \n",
    "Например:  \n",
    "\n",
    "> Read 10782 from https://www.jython.org\n",
    "\n",
    "4. Для того, чтобы проверить, что все корутины работают, можно передавать номер корутины в качестве параметра функции и выводить на печать. \n",
    "Вывод может быть такой:\n",
    "\n",
    "> Read 10782 from https://www.jython.org from coroutine 5\n",
    "\n",
    "5. Реализуйте возможность задать количество корутин, которые будут запущены (с помощью input). Список адресов должен быть равномерно распределен по корутинам.\n",
    "Например, если у нас в списке 10 сайтов, а задано 7 корутин, то разбиение должно быть таким: [2, 2, 2, 1, 1, 1, 1]\n",
    "\n",
    "6. Обратить внимание на работу с клиентской сессией. Попробуйте варианты создания сессии внутри корутины, создания единой сессии на все корутины и передачу сессии в качестве аргумента. \n",
    "\n",
    "7. Посчитайте время работы программы с помощью библиотеки time. Сравните полученные временные результаты с приведенными примерами (в файле 11_asyncio.ipynb) с использованием потоков, процессов, ThreadPoolExecutor. \n"
   ]
  },
  {
   "cell_type": "code",
   "execution_count": 1,
   "id": "215d08a0",
   "metadata": {},
   "outputs": [],
   "source": [
    "import time\n",
    "import asyncio\n",
    "import aiohttp\n"
   ]
  },
  {
   "cell_type": "code",
   "execution_count": 2,
   "id": "f55ecd9d",
   "metadata": {},
   "outputs": [
    {
     "name": "stdout",
     "output_type": "stream",
     "text": [
      "[['https://www.jython.org', 'https://www.jython.org', 'https://www.jython.org', 'https://www.jython.org', 'https://www.jython.org', 'https://www.jython.org', 'https://www.jython.org', 'https://www.jython.org'], ['https://python.org/', 'https://python.org/', 'https://python.org/', 'https://python.org/', 'https://python.org/', 'https://python.org/', 'https://python.org/', 'https://python.org/']]\n"
     ]
    }
   ],
   "source": [
    "# создаю массив массивов с url\n",
    "sites = [ \"https://www.jython.org\", \"https://python.org/\", ] * 8\n",
    "# количество корутин\n",
    "coro_num = 2\n",
    "arr = []\n",
    "for i in range(0, coro_num):\n",
    "    arr.append([])\n",
    "for i in range(len(sites)):\n",
    "    arr[i%coro_num].append(sites[i])\n",
    "print(arr)"
   ]
  },
  {
   "cell_type": "code",
   "execution_count": 3,
   "id": "d40fad51",
   "metadata": {},
   "outputs": [],
   "source": [
    "# создаю функцию запроса из массива url\n",
    "async def scrape_text_len(urls, coro_id):\n",
    "    async with aiohttp.ClientSession() as session:\n",
    "        for url in urls:\n",
    "            async with session.get(url) as response:\n",
    "                resp = await response.text()\n",
    "                print(f\"Read {len(resp)} from {url} from coroutine {coro_id}\")"
   ]
  },
  {
   "cell_type": "code",
   "execution_count": 4,
   "id": "1eaf478d",
   "metadata": {},
   "outputs": [],
   "source": [
    "# создаю функцию создания массива тасок\n",
    "# в каждой корутине своя сессия для запроса\n",
    "def tasks_for_scrape(arr_with_urls):\n",
    "    tasks = []\n",
    "    for idx, urls in enumerate(arr_with_urls):\n",
    "        task = asyncio.create_task(scrape_text_len(urls, idx+1))\n",
    "        tasks.append(task)\n",
    "    return tasks"
   ]
  },
  {
   "cell_type": "code",
   "execution_count": 7,
   "id": "0a2f33ca",
   "metadata": {},
   "outputs": [
    {
     "name": "stdout",
     "output_type": "stream",
     "text": [
      "Read 10780 from https://www.jython.org from coroutine 1\n",
      "Read 10780 from https://www.jython.org from coroutine 1\n",
      "Read 50624 from https://python.org/ from coroutine 2\n",
      "Read 10780 from https://www.jython.org from coroutine 1\n",
      "Read 10780 from https://www.jython.org from coroutine 1\n",
      "Read 10780 from https://www.jython.org from coroutine 1\n",
      "Read 50624 from https://python.org/ from coroutine 2\n",
      "Read 10780 from https://www.jython.org from coroutine 1\n",
      "Read 10780 from https://www.jython.org from coroutine 1\n",
      "Read 10780 from https://www.jython.org from coroutine 1\n",
      "Read 50624 from https://python.org/ from coroutine 2\n",
      "Read 50624 from https://python.org/ from coroutine 2\n",
      "Read 50624 from https://python.org/ from coroutine 2\n",
      "Read 50624 from https://python.org/ from coroutine 2\n",
      "Read 50624 from https://python.org/ from coroutine 2\n",
      "Read 50624 from https://python.org/ from coroutine 2\n",
      "общее время выполнения: 3.39 seconds.\n"
     ]
    }
   ],
   "source": [
    "# выполняю программу\n",
    "async def main():\n",
    "    start_time = time.time()\n",
    "    tasks_arr = tasks_for_scrape(arr)\n",
    "    await asyncio.gather(*tasks_arr)\n",
    "    time_difference = time.time() - start_time\n",
    "    print(f\"общее время выполнения: %.2f секунд.\" % time_difference)\n",
    "await main()"
   ]
  }
 ],
 "metadata": {
  "kernelspec": {
   "display_name": "Python 3 (ipykernel)",
   "language": "python",
   "name": "python3"
  },
  "language_info": {
   "codemirror_mode": {
    "name": "ipython",
    "version": 3
   },
   "file_extension": ".py",
   "mimetype": "text/x-python",
   "name": "python",
   "nbconvert_exporter": "python",
   "pygments_lexer": "ipython3",
   "version": "3.9.13"
  }
 },
 "nbformat": 4,
 "nbformat_minor": 5
}
