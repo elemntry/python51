{
 "cells": [
  {
   "cell_type": "raw",
   "id": "e81b9d83-d0be-4f91-83b3-b4712efd086d",
   "metadata": {},
   "source": [
    "Задача 1\n",
    "\n",
    "В задачах машинного обучения часто требуется нормализовывать данные (шкалировать). Один из подходов это т.н. стандартное шкалирование - вычитание среднего и деление на стандартное отклонение. Такая операция выполняется для каждого признака (столбца) отдельно.\n",
    "Необходимо написать функцию, которая для двумерного массива вычитает среднее значение каждого столбца и делит на стандартное отклонение этого столбца средствами numpy, не используя циклы.\n",
    "\n",
    "Пример работы функции standard_scaler():пше\n",
    "A= np.array([[1,4,7],[2,5,8],[3,6,9]])\n",
    "standart_scaler(A)\n",
    "array([[-1.22474487, -1.22474487, -1.22474487],\n",
    "       [ 0.        ,  0.        ,  0.        ],\n",
    "       [ 1.22474487,  1.22474487,  1.22474487]])\n",
    "\n"
   ]
  },
  {
   "cell_type": "code",
   "execution_count": 2,
   "id": "a2957ba5-2feb-444d-be45-8c8e1b5aa6de",
   "metadata": {},
   "outputs": [],
   "source": [
    "import numpy as np"
   ]
  },
  {
   "cell_type": "code",
   "execution_count": 63,
   "id": "1c58bc2a-db12-4eea-9833-1a31a40dd769",
   "metadata": {},
   "outputs": [],
   "source": [
    "arr_test = [[1,4,7],[2,5,8],[3,6,9]]\n",
    "arr = np.random.rand(3,3)"
   ]
  },
  {
   "cell_type": "code",
   "execution_count": 66,
   "id": "9684d359-950d-4ab5-9f4c-945a8fd7c660",
   "metadata": {},
   "outputs": [],
   "source": [
    "def standart_scaler(arr_test):\n",
    "    # находим среднее каждого столбца\n",
    "    means = np.mean(arr_test, axis=0)\n",
    "    # находим стандрт отклонение каждого столбца\n",
    "    stds = np.std(arr_test, axis=0)\n",
    "    arr_w_substr = np.subtract(arr_test, means)\n",
    "    arr_w_divide = np.divide(arr_w_substr, stds) \n",
    "    return arr_w_divide  "
   ]
  },
  {
   "cell_type": "code",
   "execution_count": 67,
   "id": "742b6e51-49b8-43bf-83c7-384beacabcec",
   "metadata": {},
   "outputs": [
    {
     "data": {
      "text/plain": [
       "array([[-1.22474487, -1.22474487, -1.22474487],\n",
       "       [ 0.        ,  0.        ,  0.        ],\n",
       "       [ 1.22474487,  1.22474487,  1.22474487]])"
      ]
     },
     "execution_count": 67,
     "metadata": {},
     "output_type": "execute_result"
    }
   ],
   "source": [
    "standart_scaler(arr_test)"
   ]
  },
  {
   "cell_type": "raw",
   "id": "7cd5120e-1be8-4b57-bdb0-150758d45827",
   "metadata": {},
   "source": [
    "Задача 2\n",
    "\n",
    "Инициализировать любую матрицу размера 10x100 (100 наблюдений от 10 показателей), рассчитать коэффициенты корреляции между всеми 10 показателями (10х10 коэффициентов) в виде двумерной матрицы, затем выделить только значимые значения (треугольник сверху справа) и развернуть его в вектор\n",
    "\n",
    "Пример работы get_corcoefs():\n",
    "A = np.array([[0, 2, 4, 1, 2],\n",
    "       [6, 5, 6, 1, 7],\n",
    "       [4, 4, 2, 7, 7],\n",
    "       [1, 4, 2, 8, 2],\n",
    "       [4, 3, 1, 4, 6],\n",
    "       [3, 3, 9, 9, 1],\n",
    "       [5, 1, 1, 9, 2],\n",
    "       [0, 0, 0, 9, 5],\n",
    "       [5, 3, 6, 4, 9],\n",
    "       [8, 8, 2, 7, 2],\n",
    "       [7, 9, 7, 4, 1],\n",
    "       [3, 5, 7, 0, 2],\n",
    "       [0, 2, 2, 5, 5],\n",
    "       [4, 8, 0, 9, 0]])\n",
    "get_corcoefs(A)\n",
    "array([ 0.67428772,  0.23088898, -0.04560285,  0.00911183,  0.20712955,\n",
    "       -0.1094108 , -0.38402827, -0.47628586, -0.04198495, -0.26701662])"
   ]
  },
  {
   "cell_type": "code",
   "execution_count": 141,
   "id": "079d4f77-d87d-4154-82dd-cc78bf4e7f78",
   "metadata": {},
   "outputs": [],
   "source": [
    "# Подготовка\n",
    "# создаем массив массивов\n",
    "arr2 = arr = np.random.rand(10,100)\n",
    "\n",
    "# приводим к матрице\n",
    "matrix = np.asmatrix(arr2)"
   ]
  },
  {
   "cell_type": "code",
   "execution_count": 145,
   "id": "9d9cc6d8-10a4-4e7d-a82e-e8e77847bab8",
   "metadata": {},
   "outputs": [],
   "source": [
    "def get_corcoefs(m):\n",
    "\n",
    "    # находим коэф корр Пирсона\n",
    "    pirson_coef = np.corrcoef(m)\n",
    "    # оставляем значимые значения. Верхнетреугольная матрица\n",
    "    tmp = np.triu(pirson_coef)\n",
    "    # или сразу в вектор\n",
    "    return pirson_coef[np.triu_indices(np.size(pirson_coef,0))]"
   ]
  },
  {
   "cell_type": "code",
   "execution_count": 146,
   "id": "98f4dfd5-fdb6-40ae-b4d6-4d5f4c9c1a22",
   "metadata": {},
   "outputs": [
    {
     "data": {
      "text/plain": [
       "array([ 1.        ,  0.08428855, -0.15527439, -0.07857072,  0.06718319,\n",
       "        0.06953992, -0.12687853,  0.11432913, -0.06601264,  0.07254603,\n",
       "        1.        , -0.08164852, -0.00183387, -0.14904115, -0.11999537,\n",
       "        0.03604378,  0.10595116, -0.08342194, -0.03843874,  1.        ,\n",
       "       -0.22531008,  0.11017338,  0.00967434, -0.02762752, -0.09348535,\n",
       "       -0.06311384, -0.07040357,  1.        ,  0.21904416,  0.09653735,\n",
       "        0.14034451, -0.00442269,  0.14701071, -0.02860987,  1.        ,\n",
       "        0.01160236,  0.07786416, -0.03682513,  0.09151802, -0.00303856,\n",
       "        1.        , -0.049181  ,  0.01177938, -0.01933578, -0.04167043,\n",
       "        1.        , -0.02411239, -0.00919684, -0.15973504,  1.        ,\n",
       "       -0.00861725, -0.01520443,  1.        , -0.02014969,  1.        ])"
      ]
     },
     "execution_count": 146,
     "metadata": {},
     "output_type": "execute_result"
    }
   ],
   "source": [
    "get_corcoefs(matrix)"
   ]
  },
  {
   "cell_type": "code",
   "execution_count": 147,
   "id": "d3e73d6b-1aea-4c33-b931-1af97d44dbee",
   "metadata": {},
   "outputs": [],
   "source": [
    "# ТРЕНИРОВКА\n",
    "# import matplotlib.pyplot as plt\n",
    "# # создаем массив массивов\n",
    "# arr2 = arr = np.random.rand(10,100)\n",
    "# # приводим к матрице\n",
    "# matrix = np.asmatrix(arr2)\n",
    "# # находим коэф корр Пирсона\n",
    "# pirson_coef = np.corrcoef(matrix)\n",
    "# fig, ax = plt.subplots(nrows=1, ncols=3, figsize=(12, 3))\n",
    "# for i in [0,1,2]:\n",
    "#     ax[i].scatter(arr2[0,],arr2[1+i,])\n",
    "#     ax[i].title.set_text('Correlation = ' + \"{:.2f}\".format(pirson_coef[0,i+1]))\n",
    "#     ax[i].set(xlabel='x',ylabel='y')\n",
    "# fig.subplots_adjust(wspace=.4)    \n",
    "# plt.show()\n",
    "# # оставляем значимые значения. Верхнетреугольная матрица\n",
    "# tmp = np.triu(pirson_coef)\n",
    "# print(tmp)\n",
    "# # или сразу в вектор\n",
    "# pirson_coef[np.triu_indices(10)]"
   ]
  }
 ],
 "metadata": {
  "kernelspec": {
   "display_name": "Python 3 (ipykernel)",
   "language": "python",
   "name": "python3"
  },
  "language_info": {
   "codemirror_mode": {
    "name": "ipython",
    "version": 3
   },
   "file_extension": ".py",
   "mimetype": "text/x-python",
   "name": "python",
   "nbconvert_exporter": "python",
   "pygments_lexer": "ipython3",
   "version": "3.9.13"
  }
 },
 "nbformat": 4,
 "nbformat_minor": 5
}
