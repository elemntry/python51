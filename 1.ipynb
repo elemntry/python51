{
 "cells": [
  {
   "cell_type": "code",
   "execution_count": null,
   "id": "e0544a44-28d0-402b-adfc-185804b41ed4",
   "metadata": {},
   "outputs": [
    {
     "name": "stderr",
     "output_type": "stream",
     "text": [
      "/opt/conda/lib/python3.10/site-packages/urllib3/connectionpool.py:1045: InsecureRequestWarning: Unverified HTTPS request is being made to host 'openphish.com'. Adding certificate verification is strongly advised. See: https://urllib3.readthedocs.io/en/1.26.x/advanced-usage.html#ssl-warnings\n",
      "  warnings.warn(\n"
     ]
    },
    {
     "name": "stdout",
     "output_type": "stream",
     "text": [
      "Запустился 1 раз\n",
      "2023-02-08 16:24:21.065688\n"
     ]
    },
    {
     "name": "stderr",
     "output_type": "stream",
     "text": [
      "/opt/conda/lib/python3.10/site-packages/urllib3/connectionpool.py:1045: InsecureRequestWarning: Unverified HTTPS request is being made to host 'openphish.com'. Adding certificate verification is strongly advised. See: https://urllib3.readthedocs.io/en/1.26.x/advanced-usage.html#ssl-warnings\n",
      "  warnings.warn(\n"
     ]
    },
    {
     "name": "stdout",
     "output_type": "stream",
     "text": [
      "Запустился 2 раз\n",
      "2023-02-08 16:29:21.678002\n"
     ]
    },
    {
     "name": "stderr",
     "output_type": "stream",
     "text": [
      "/opt/conda/lib/python3.10/site-packages/urllib3/connectionpool.py:1045: InsecureRequestWarning: Unverified HTTPS request is being made to host 'openphish.com'. Adding certificate verification is strongly advised. See: https://urllib3.readthedocs.io/en/1.26.x/advanced-usage.html#ssl-warnings\n",
      "  warnings.warn(\n"
     ]
    },
    {
     "name": "stdout",
     "output_type": "stream",
     "text": [
      "Запустился 3 раз\n",
      "2023-02-08 16:34:22.220134\n"
     ]
    },
    {
     "name": "stderr",
     "output_type": "stream",
     "text": [
      "/opt/conda/lib/python3.10/site-packages/urllib3/connectionpool.py:1045: InsecureRequestWarning: Unverified HTTPS request is being made to host 'openphish.com'. Adding certificate verification is strongly advised. See: https://urllib3.readthedocs.io/en/1.26.x/advanced-usage.html#ssl-warnings\n",
      "  warnings.warn(\n"
     ]
    },
    {
     "name": "stdout",
     "output_type": "stream",
     "text": [
      "Запустился 4 раз\n",
      "2023-02-08 16:39:22.679694\n"
     ]
    },
    {
     "name": "stderr",
     "output_type": "stream",
     "text": [
      "/opt/conda/lib/python3.10/site-packages/urllib3/connectionpool.py:1045: InsecureRequestWarning: Unverified HTTPS request is being made to host 'openphish.com'. Adding certificate verification is strongly advised. See: https://urllib3.readthedocs.io/en/1.26.x/advanced-usage.html#ssl-warnings\n",
      "  warnings.warn(\n"
     ]
    },
    {
     "name": "stdout",
     "output_type": "stream",
     "text": [
      "Запустился 5 раз\n",
      "2023-02-08 16:44:23.041212\n"
     ]
    },
    {
     "name": "stderr",
     "output_type": "stream",
     "text": [
      "/opt/conda/lib/python3.10/site-packages/urllib3/connectionpool.py:1045: InsecureRequestWarning: Unverified HTTPS request is being made to host 'openphish.com'. Adding certificate verification is strongly advised. See: https://urllib3.readthedocs.io/en/1.26.x/advanced-usage.html#ssl-warnings\n",
      "  warnings.warn(\n"
     ]
    },
    {
     "name": "stdout",
     "output_type": "stream",
     "text": [
      "Запустился 6 раз\n",
      "2023-02-08 16:49:23.476080\n"
     ]
    },
    {
     "name": "stderr",
     "output_type": "stream",
     "text": [
      "/opt/conda/lib/python3.10/site-packages/urllib3/connectionpool.py:1045: InsecureRequestWarning: Unverified HTTPS request is being made to host 'openphish.com'. Adding certificate verification is strongly advised. See: https://urllib3.readthedocs.io/en/1.26.x/advanced-usage.html#ssl-warnings\n",
      "  warnings.warn(\n"
     ]
    },
    {
     "name": "stdout",
     "output_type": "stream",
     "text": [
      "Запустился 7 раз\n",
      "2023-02-08 16:54:24.032468\n"
     ]
    },
    {
     "name": "stderr",
     "output_type": "stream",
     "text": [
      "/opt/conda/lib/python3.10/site-packages/urllib3/connectionpool.py:1045: InsecureRequestWarning: Unverified HTTPS request is being made to host 'openphish.com'. Adding certificate verification is strongly advised. See: https://urllib3.readthedocs.io/en/1.26.x/advanced-usage.html#ssl-warnings\n",
      "  warnings.warn(\n"
     ]
    },
    {
     "name": "stdout",
     "output_type": "stream",
     "text": [
      "Запустился 8 раз\n",
      "2023-02-08 16:59:24.683780\n"
     ]
    },
    {
     "name": "stderr",
     "output_type": "stream",
     "text": [
      "/opt/conda/lib/python3.10/site-packages/urllib3/connectionpool.py:1045: InsecureRequestWarning: Unverified HTTPS request is being made to host 'openphish.com'. Adding certificate verification is strongly advised. See: https://urllib3.readthedocs.io/en/1.26.x/advanced-usage.html#ssl-warnings\n",
      "  warnings.warn(\n"
     ]
    },
    {
     "name": "stdout",
     "output_type": "stream",
     "text": [
      "Запустился 9 раз\n",
      "2023-02-08 17:04:25.163432\n"
     ]
    },
    {
     "name": "stderr",
     "output_type": "stream",
     "text": [
      "/opt/conda/lib/python3.10/site-packages/urllib3/connectionpool.py:1045: InsecureRequestWarning: Unverified HTTPS request is being made to host 'openphish.com'. Adding certificate verification is strongly advised. See: https://urllib3.readthedocs.io/en/1.26.x/advanced-usage.html#ssl-warnings\n",
      "  warnings.warn(\n"
     ]
    },
    {
     "name": "stdout",
     "output_type": "stream",
     "text": [
      "Запустился 10 раз\n",
      "2023-02-08 17:09:25.671093\n"
     ]
    },
    {
     "name": "stderr",
     "output_type": "stream",
     "text": [
      "/opt/conda/lib/python3.10/site-packages/urllib3/connectionpool.py:1045: InsecureRequestWarning: Unverified HTTPS request is being made to host 'openphish.com'. Adding certificate verification is strongly advised. See: https://urllib3.readthedocs.io/en/1.26.x/advanced-usage.html#ssl-warnings\n",
      "  warnings.warn(\n"
     ]
    },
    {
     "name": "stdout",
     "output_type": "stream",
     "text": [
      "Запустился 11 раз\n",
      "2023-02-08 17:14:26.175135\n"
     ]
    },
    {
     "name": "stderr",
     "output_type": "stream",
     "text": [
      "/opt/conda/lib/python3.10/site-packages/urllib3/connectionpool.py:1045: InsecureRequestWarning: Unverified HTTPS request is being made to host 'openphish.com'. Adding certificate verification is strongly advised. See: https://urllib3.readthedocs.io/en/1.26.x/advanced-usage.html#ssl-warnings\n",
      "  warnings.warn(\n"
     ]
    },
    {
     "name": "stdout",
     "output_type": "stream",
     "text": [
      "Запустился 12 раз\n",
      "2023-02-08 17:19:26.680922\n"
     ]
    }
   ],
   "source": [
    "from datetime import datetime, timedelta, time\n",
    "import time\n",
    "from bs4 import BeautifulSoup\n",
    "import requests\n",
    "import pandas as pd\n",
    "\n",
    "\n",
    "url_openphish = 'https://openphish.com/'\n",
    "now = datetime.now()\n",
    "current_time = now.strftime(\"%m/%d/%Y %H:%M:%S\")\n",
    "date = current_time.split(\" \")[0]\n",
    "i = 1\n",
    "alive_sites = []\n",
    "\n",
    "def job():\n",
    "    global i\n",
    "    global alive_sites\n",
    "    \n",
    "    page = requests.get(url_openphish, stream=True, allow_redirects=True, timeout=10, verify=False)\n",
    "    soup = BeautifulSoup(page.text, \"html.parser\")\n",
    "    table = soup.find('table', class_ = 'pure-table pure-table-striped')\n",
    "    internal_table = table.find('tbody')\n",
    "    for tr in internal_table.find_all('tr'):\n",
    "        # print(tr)\n",
    "        url = \"\"\n",
    "        target = \"\"\n",
    "        time = \"\"\n",
    "        row = []\n",
    "        for td in tr.find_all('td'):\n",
    "            # print(td.text.strip())       \n",
    "            row.append(td.text.strip())        \n",
    "        # print(row)\n",
    "        if row:\n",
    "            url = row[0]\n",
    "            target = row[1]        \n",
    "            time = date + \" \" + row[2]\n",
    "\n",
    "            datetime_object = datetime.strptime(time,\"%m/%d/%Y %H:%M:%S\")\n",
    "            if ((now - datetime_object).total_seconds()/60-180)<16:\n",
    "                # print(row)\n",
    "                alive_sites.append(row)\n",
    "    \n",
    "    print(f\"Запустился {i} раз\")\n",
    "    i += 1\n",
    "    print(datetime.now())\n",
    "\n",
    "while i <= 12:\n",
    "    job()\n",
    "    time.sleep(300)"
   ]
  },
  {
   "cell_type": "code",
   "execution_count": null,
   "id": "ef52a7ad-14e7-4c18-9545-9275e89a4ff7",
   "metadata": {},
   "outputs": [],
   "source": [
    "df = pd.DataFrame(alive_sites)\n",
    "df.to_csv(\"data.csv\")"
   ]
  },
  {
   "cell_type": "code",
   "execution_count": null,
   "id": "3bb94a5a-ea7b-4e34-a4e3-2867b2e57fb3",
   "metadata": {},
   "outputs": [],
   "source": [
    "# создаю data frame\n",
    "df = pd.read_csv(\"data.csv\")\n",
    "df.columns =['number', 'link', 'company', 'time']\n",
    "df.info()"
   ]
  },
  {
   "cell_type": "code",
   "execution_count": null,
   "id": "7d60e3e0-de5a-4b02-9754-2cacf64b3c4b",
   "metadata": {},
   "outputs": [],
   "source": [
    "# количество уникальный ссылок\n",
    "df['link'].nunique()"
   ]
  },
  {
   "cell_type": "code",
   "execution_count": null,
   "id": "61b32443-a593-4e66-be62-37799977ba7f",
   "metadata": {},
   "outputs": [],
   "source": [
    "# Топ 3 наиболее атакуемых компаний\n",
    "df['company'].value_counts().nlargest(3)"
   ]
  }
 ],
 "metadata": {
  "kernelspec": {
   "display_name": "Python 3 (ipykernel)",
   "language": "python",
   "name": "python3"
  },
  "language_info": {
   "codemirror_mode": {
    "name": "ipython",
    "version": 3
   },
   "file_extension": ".py",
   "mimetype": "text/x-python",
   "name": "python",
   "nbconvert_exporter": "python",
   "pygments_lexer": "ipython3",
   "version": "3.10.8"
  }
 },
 "nbformat": 4,
 "nbformat_minor": 5
}
